{
  "nbformat": 4,
  "nbformat_minor": 0,
  "metadata": {
    "colab": {
      "name": "pokemon.ipynb",
      "version": "0.3.2",
      "provenance": [],
      "collapsed_sections": []
    },
    "kernelspec": {
      "name": "python3",
      "display_name": "Python 3"
    }
  },
  "cells": [
    {
      "cell_type": "markdown",
      "metadata": {
        "id": "fQatz8DXvroL",
        "colab_type": "text"
      },
      "source": [
        "# Pokémon Data Analysis"
      ]
    },
    {
      "cell_type": "markdown",
      "metadata": {
        "id": "A41cQ93gv5pH",
        "colab_type": "text"
      },
      "source": [
        "## Imports and Set Up"
      ]
    },
    {
      "cell_type": "code",
      "metadata": {
        "id": "wgxPdZI4IMn-",
        "colab_type": "code",
        "outputId": "7cc95582-7706-4949-f2ca-1ba439d189a6",
        "colab": {
          "base_uri": "https://localhost:8080/",
          "height": 230
        }
      },
      "source": [
        "import pandas as pd\n",
        "import numpy as np\n",
        "import matplotlib.pyplot as plt\n",
        "\n",
        "# Set the plots to display in the Jupyter notebook.\n",
        "%matplotlib inline\n",
        "\n",
        "# Change plotting colors.\n",
        "plt.style.use('seaborn')\n",
        "\n",
        "# Increase default figure and font sizes for easier viewing.\n",
        "plt.rcParams['figure.figsize'] = (14, 6)\n",
        "plt.rcParams['font.size'] = 14\n",
        "\n",
        "# Create Pokémon DataFrame.\n",
        "pokemon = pd.read_csv('pokemon.csv')\n",
        "pokemon = pokemon.rename(columns={'name':'Name', 'hp':'Health', 'attack':'Attack', 'defense':'Defense', \n",
        "                                  'sp_attack': 'Special Attack', 'sp_defense':'Special Defense', \n",
        "                                  'speed':'Speed', 'type1':'Type 1', 'type2':'Type 2',}, inplace=False)\n",
        "pokemon.head(3)"
      ],
      "execution_count": 132,
      "outputs": [
        {
          "output_type": "execute_result",
          "data": {
            "text/html": [
              "<div>\n",
              "<style scoped>\n",
              "    .dataframe tbody tr th:only-of-type {\n",
              "        vertical-align: middle;\n",
              "    }\n",
              "\n",
              "    .dataframe tbody tr th {\n",
              "        vertical-align: top;\n",
              "    }\n",
              "\n",
              "    .dataframe thead th {\n",
              "        text-align: right;\n",
              "    }\n",
              "</style>\n",
              "<table border=\"1\" class=\"dataframe\">\n",
              "  <thead>\n",
              "    <tr style=\"text-align: right;\">\n",
              "      <th></th>\n",
              "      <th>abilities</th>\n",
              "      <th>against_bug</th>\n",
              "      <th>against_dark</th>\n",
              "      <th>against_dragon</th>\n",
              "      <th>against_electric</th>\n",
              "      <th>against_fairy</th>\n",
              "      <th>against_fight</th>\n",
              "      <th>against_fire</th>\n",
              "      <th>against_flying</th>\n",
              "      <th>against_ghost</th>\n",
              "      <th>against_grass</th>\n",
              "      <th>against_ground</th>\n",
              "      <th>against_ice</th>\n",
              "      <th>against_normal</th>\n",
              "      <th>against_poison</th>\n",
              "      <th>against_psychic</th>\n",
              "      <th>against_rock</th>\n",
              "      <th>against_steel</th>\n",
              "      <th>against_water</th>\n",
              "      <th>Attack</th>\n",
              "      <th>base_egg_steps</th>\n",
              "      <th>base_happiness</th>\n",
              "      <th>base_total</th>\n",
              "      <th>capture_rate</th>\n",
              "      <th>classfication</th>\n",
              "      <th>Defense</th>\n",
              "      <th>experience_growth</th>\n",
              "      <th>height_m</th>\n",
              "      <th>Health</th>\n",
              "      <th>japanese_name</th>\n",
              "      <th>Name</th>\n",
              "      <th>percentage_male</th>\n",
              "      <th>pokedex_number</th>\n",
              "      <th>Special Attack</th>\n",
              "      <th>Special Defense</th>\n",
              "      <th>Speed</th>\n",
              "      <th>Type 1</th>\n",
              "      <th>Type 2</th>\n",
              "      <th>weight_kg</th>\n",
              "      <th>generation</th>\n",
              "      <th>is_legendary</th>\n",
              "    </tr>\n",
              "  </thead>\n",
              "  <tbody>\n",
              "    <tr>\n",
              "      <th>0</th>\n",
              "      <td>['Overgrow', 'Chlorophyll']</td>\n",
              "      <td>1.0</td>\n",
              "      <td>1.0</td>\n",
              "      <td>1.0</td>\n",
              "      <td>0.5</td>\n",
              "      <td>0.5</td>\n",
              "      <td>0.5</td>\n",
              "      <td>2.0</td>\n",
              "      <td>2.0</td>\n",
              "      <td>1.0</td>\n",
              "      <td>0.25</td>\n",
              "      <td>1.0</td>\n",
              "      <td>2.0</td>\n",
              "      <td>1.0</td>\n",
              "      <td>1.0</td>\n",
              "      <td>2.0</td>\n",
              "      <td>1.0</td>\n",
              "      <td>1.0</td>\n",
              "      <td>0.5</td>\n",
              "      <td>49</td>\n",
              "      <td>5120</td>\n",
              "      <td>70</td>\n",
              "      <td>318</td>\n",
              "      <td>45</td>\n",
              "      <td>Seed Pokémon</td>\n",
              "      <td>49</td>\n",
              "      <td>1059860</td>\n",
              "      <td>0.7</td>\n",
              "      <td>45</td>\n",
              "      <td>Fushigidaneフシギダネ</td>\n",
              "      <td>Bulbasaur</td>\n",
              "      <td>88.1</td>\n",
              "      <td>1</td>\n",
              "      <td>65</td>\n",
              "      <td>65</td>\n",
              "      <td>45</td>\n",
              "      <td>grass</td>\n",
              "      <td>poison</td>\n",
              "      <td>6.9</td>\n",
              "      <td>1</td>\n",
              "      <td>0</td>\n",
              "    </tr>\n",
              "    <tr>\n",
              "      <th>1</th>\n",
              "      <td>['Overgrow', 'Chlorophyll']</td>\n",
              "      <td>1.0</td>\n",
              "      <td>1.0</td>\n",
              "      <td>1.0</td>\n",
              "      <td>0.5</td>\n",
              "      <td>0.5</td>\n",
              "      <td>0.5</td>\n",
              "      <td>2.0</td>\n",
              "      <td>2.0</td>\n",
              "      <td>1.0</td>\n",
              "      <td>0.25</td>\n",
              "      <td>1.0</td>\n",
              "      <td>2.0</td>\n",
              "      <td>1.0</td>\n",
              "      <td>1.0</td>\n",
              "      <td>2.0</td>\n",
              "      <td>1.0</td>\n",
              "      <td>1.0</td>\n",
              "      <td>0.5</td>\n",
              "      <td>62</td>\n",
              "      <td>5120</td>\n",
              "      <td>70</td>\n",
              "      <td>405</td>\n",
              "      <td>45</td>\n",
              "      <td>Seed Pokémon</td>\n",
              "      <td>63</td>\n",
              "      <td>1059860</td>\n",
              "      <td>1.0</td>\n",
              "      <td>60</td>\n",
              "      <td>Fushigisouフシギソウ</td>\n",
              "      <td>Ivysaur</td>\n",
              "      <td>88.1</td>\n",
              "      <td>2</td>\n",
              "      <td>80</td>\n",
              "      <td>80</td>\n",
              "      <td>60</td>\n",
              "      <td>grass</td>\n",
              "      <td>poison</td>\n",
              "      <td>13.0</td>\n",
              "      <td>1</td>\n",
              "      <td>0</td>\n",
              "    </tr>\n",
              "    <tr>\n",
              "      <th>2</th>\n",
              "      <td>['Overgrow', 'Chlorophyll']</td>\n",
              "      <td>1.0</td>\n",
              "      <td>1.0</td>\n",
              "      <td>1.0</td>\n",
              "      <td>0.5</td>\n",
              "      <td>0.5</td>\n",
              "      <td>0.5</td>\n",
              "      <td>2.0</td>\n",
              "      <td>2.0</td>\n",
              "      <td>1.0</td>\n",
              "      <td>0.25</td>\n",
              "      <td>1.0</td>\n",
              "      <td>2.0</td>\n",
              "      <td>1.0</td>\n",
              "      <td>1.0</td>\n",
              "      <td>2.0</td>\n",
              "      <td>1.0</td>\n",
              "      <td>1.0</td>\n",
              "      <td>0.5</td>\n",
              "      <td>100</td>\n",
              "      <td>5120</td>\n",
              "      <td>70</td>\n",
              "      <td>625</td>\n",
              "      <td>45</td>\n",
              "      <td>Seed Pokémon</td>\n",
              "      <td>123</td>\n",
              "      <td>1059860</td>\n",
              "      <td>2.0</td>\n",
              "      <td>80</td>\n",
              "      <td>Fushigibanaフシギバナ</td>\n",
              "      <td>Venusaur</td>\n",
              "      <td>88.1</td>\n",
              "      <td>3</td>\n",
              "      <td>122</td>\n",
              "      <td>120</td>\n",
              "      <td>80</td>\n",
              "      <td>grass</td>\n",
              "      <td>poison</td>\n",
              "      <td>100.0</td>\n",
              "      <td>1</td>\n",
              "      <td>0</td>\n",
              "    </tr>\n",
              "  </tbody>\n",
              "</table>\n",
              "</div>"
            ],
            "text/plain": [
              "                     abilities  against_bug  ...  generation  is_legendary\n",
              "0  ['Overgrow', 'Chlorophyll']          1.0  ...           1             0\n",
              "1  ['Overgrow', 'Chlorophyll']          1.0  ...           1             0\n",
              "2  ['Overgrow', 'Chlorophyll']          1.0  ...           1             0\n",
              "\n",
              "[3 rows x 41 columns]"
            ]
          },
          "metadata": {
            "tags": []
          },
          "execution_count": 132
        }
      ]
    },
    {
      "cell_type": "markdown",
      "metadata": {
        "id": "cSd4NRdLwMWH",
        "colab_type": "text"
      },
      "source": [
        "## Part I - Data Analysis and Stuffs"
      ]
    },
    {
      "cell_type": "code",
      "metadata": {
        "id": "zs2CC-IawSgZ",
        "colab_type": "code",
        "outputId": "34a92bd1-40da-41c7-d639-a4e7fdd1669e",
        "colab": {
          "base_uri": "https://localhost:8080/",
          "height": 197
        }
      },
      "source": [
        "# Return a Pokémon's type(s), stats, weight, and height.\n",
        "def stats(name):\n",
        "  stats_subset = pokemon[['Name', 'Type 1', 'Type 2', 'Health', 'Attack', 'Defense', 'Special Attack', 'Special Defense', 'Speed']]\n",
        "  return stats_subset.loc[stats_subset['Name'] == name].squeeze()\n",
        "  \n",
        "print(stats('Charizard'))\n",
        "# print(stats('Pikachu'))\n",
        "# print(stats('Umbreon'))"
      ],
      "execution_count": 279,
      "outputs": [
        {
          "output_type": "stream",
          "text": [
            "Name               Charizard\n",
            "Type 1                  fire\n",
            "Type 2                flying\n",
            "Health                    78\n",
            "Attack                   104\n",
            "Defense                   78\n",
            "Special Attack           159\n",
            "Special Defense          115\n",
            "Speed                    100\n",
            "Name: 5, dtype: object\n"
          ],
          "name": "stdout"
        }
      ]
    },
    {
      "cell_type": "code",
      "metadata": {
        "id": "vRdGTRCaKupB",
        "colab_type": "code",
        "outputId": "2d0549f9-ec29-4e38-a323-a121c8e97f55",
        "colab": {
          "base_uri": "https://localhost:8080/",
          "height": 71
        }
      },
      "source": [
        "# Return Japanese name of a Pokémon.\n",
        "def name_converter(name):\n",
        "  name_eng = pokemon[['Name', 'japanese_name']]\n",
        "  name_eng.set_index('Name', inplace=True)\n",
        "  \n",
        "  if name in name_eng.index:\n",
        "    return f'The Japanese name of {name} is ' + name_eng.loc[name, 'japanese_name']\n",
        "  else:\n",
        "    return 'That is not a Pokemon name!'\n",
        "\n",
        "print(name_converter('Charizard'))\n",
        "print(name_converter('Pikachu'))\n",
        "print(name_converter('Umbreon'))"
      ],
      "execution_count": 280,
      "outputs": [
        {
          "output_type": "stream",
          "text": [
            "The Japanese name of Charizard is Lizardonリザードン\n",
            "The Japanese name of Pikachu is Pikachuピカチュウ\n",
            "The Japanese name of Umbreon is Blackyブラッキー\n"
          ],
          "name": "stdout"
        }
      ]
    },
    {
      "cell_type": "code",
      "metadata": {
        "id": "g7v7b8w-LxIv",
        "colab_type": "code",
        "outputId": "10d94a0d-5da0-4590-d2f5-e793775aa097",
        "colab": {
          "base_uri": "https://localhost:8080/",
          "height": 453
        }
      },
      "source": [
        "# Most common weaknesses\n",
        "\n",
        "sorted_stats = pokemon.sort_values('base_total', ascending=False)\n",
        "against_stats = sorted_stats[['against_bug', 'against_dark', 'against_dragon', 'against_electric', 'against_fairy', \n",
        "         'against_fight', 'against_fire', 'against_flying', 'against_ghost', 'against_grass', 'against_ground', \n",
        "         'against_ice', 'against_normal', 'against_poison', 'against_psychic', 'against_rock', 'against_steel', 'against_water']]\n",
        "\n",
        "high_stats = against_stats.head(267)\n",
        "mid_stats = against_stats.iloc[267:534]\n",
        "low_stats = against_stats.tail(267)\n",
        "\n",
        "high_stats.sum().sort_values(ascending=False).plot(kind='bar')\n",
        "mid_stats.sum().sort_values(ascending=False).plot(kind='bar')\n",
        "low_stats.sum().sort_values(ascending=False).plot(kind='bar')\n",
        "\n",
        "# https://stackoverflow.com/questions/41787006/making-multiple-pie-charts-out-of-a-pandas-dataframe-one-for-each-row\n",
        "\n",
        "# TODO: Make this prettier. I.e. into a graph"
      ],
      "execution_count": 0,
      "outputs": [
        {
          "output_type": "execute_result",
          "data": {
            "text/plain": [
              "<matplotlib.axes._subplots.AxesSubplot at 0x7fed9781ffd0>"
            ]
          },
          "metadata": {
            "tags": []
          },
          "execution_count": 251
        },
        {
          "output_type": "display_data",
          "data": {
            "image/png": "[encoded data removed]",
            "text/plain": [
              "<Figure size 1008x432 with 1 Axes>"
            ]
          },
          "metadata": {
            "tags": []
          }
        }
      ]
    },
    {
      "cell_type": "code",
      "metadata": {
        "id": "ygfVRFmuKz6M",
        "colab_type": "code",
        "outputId": "b0424d72-7b69-4bc6-e8ea-ed1210698f78",
        "colab": {
          "base_uri": "https://localhost:8080/",
          "height": 455
        }
      },
      "source": [
        "# Return mean for each pokemon stat (e.g. mean speed for all pokemon).\n",
        "pokemon[['Health', 'Attack', 'Defense', 'Special Attack', 'Special Defense', 'Speed']].mean().plot(kind='bar')\n",
        "\n",
        "# Filter by Pokemon type.\n",
        "poke_type = 'fire'\n",
        "pokemon_by_type = pokemon[ (pokemon['Type 1'] == poke_type) | (pokemon['Type 2'] == poke_type) ]\n",
        "pokemon_by_type[['Health', 'Attack', 'Defense', 'Special Attack', 'Special Defense', 'Speed']].mean().plot(kind='bar')\n",
        "\n",
        "# Only male pokemon\n",
        "pokemon_male_only = pokemon[pokemon['percentage_male'] == 100]\n",
        "pokemon_male_only[['Health', 'Attack', 'Defense', 'Special Attack', 'Special Defense', 'Speed']].mean().plot(kind='bar')\n",
        "\n",
        "# Only female pokemon\n",
        "pokemon_female_only = pokemon[pokemon['percentage_male'] == 0]\n",
        "pokemon_female_only[['Health', 'Attack', 'Defense', 'Special Attack', 'Special Defense', 'Speed']].mean().plot(kind='bar')"
      ],
      "execution_count": 290,
      "outputs": [
        {
          "output_type": "execute_result",
          "data": {
            "text/plain": [
              "<matplotlib.axes._subplots.AxesSubplot at 0x7f3e87cbc518>"
            ]
          },
          "metadata": {
            "tags": []
          },
          "execution_count": 290
        },
        {
          "output_type": "display_data",
          "data": {
            "image/png": "[encoded data removed]",
            "text/plain": [
              "<Figure size 1008x432 with 1 Axes>"
            ]
          },
          "metadata": {
            "tags": []
          }
        }
      ]
    },
    {
      "cell_type": "markdown",
      "metadata": {
        "id": "-vfz8N_xwP1r",
        "colab_type": "text"
      },
      "source": [
        "## Part II - Is Pokémon Sexist?"
      ]
    },
    {
      "cell_type": "code",
      "metadata": {
        "id": "7wtHNnHRVv6v",
        "colab_type": "code",
        "colab": {
          "base_uri": "https://localhost:8080/",
          "height": 107
        },
        "outputId": "7c701594-f69f-4f32-bcea-20bdd765e311"
      },
      "source": [
        "# Created subset of male and female oriented Pokemon.\n",
        "pokemon_male = pokemon[pokemon['percentage_male'] > 50]\n",
        "pokemon_female = pokemon[pokemon['percentage_male'] < 50]\n",
        "\n",
        "# Count the total number of Pokemon that lean male vs lean female.\n",
        "num_pokemon_male = pokemon_male['Name'].count()\n",
        "num_pokemon_female = pokemon_female['Name'].count()\n",
        "print(f'Number of Male Leaning Pokemon: {num_pokemon_male}')\n",
        "print(f'Number of Female Leaning Pokemon: {num_pokemon_female}')\n",
        "\n",
        "percentage_female = (num_pokemon_female/num_pokemon_male)*100\n",
        "print(f'{round(percentage_female)}% of Pokemon are female leaning.')\n",
        "\n",
        "mean_pokemon_male = round(pokemon_male['base_total'].mean())\n",
        "mean_pokemon_female = round(pokemon_female['base_total'].mean())\n",
        "# Mean total stats of all male leaning vs female leaning Pokemon.\n",
        "print(f'Mean Total Stats of Female Pokemon: {mean_pokemon_male}')\n",
        "print(f'Mean Total Stats of Male Pokemon: {mean_pokemon_female}')"
      ],
      "execution_count": 277,
      "outputs": [
        {
          "output_type": "stream",
          "text": [
            "Number of Male Leaning Pokemon: 149\n",
            "Number of Female Leaning Pokemon: 53\n",
            "36.0% of Pokemon are female leaning.\n",
            "Mean Total Stats of Female Pokemon: 438\n",
            "Mean Total Stats of Male Pokemon: 405\n"
          ],
          "name": "stdout"
        }
      ]
    },
    {
      "cell_type": "code",
      "metadata": {
        "id": "NUJCZTD75dSK",
        "colab_type": "code",
        "colab": {
          "base_uri": "https://localhost:8080/",
          "height": 71
        },
        "outputId": "5f1d38a6-d849-47fd-8f19-b8a82e6e99fc"
      },
      "source": [
        "# Mean male percentage of all gendered Pokemon.\n",
        "capture_rate_male = round(pokemon['percentage_male'].mean())\n",
        "print(f'Male capture rate: {capture_rate_male}%')\n",
        "print(f'Female capture rate: {100-capture_rate_male}%')\n",
        "print(f'You are 5% more likely to catch a male Pokémon than a female Pokémon.')"
      ],
      "execution_count": 255,
      "outputs": [
        {
          "output_type": "stream",
          "text": [
            "Male capture rate: 55%\n",
            "Female capture rate: 45%\n",
            "You are 5% more likely to catch a male Pokémon than a female Pokémon.\n"
          ],
          "name": "stdout"
        }
      ]
    },
    {
      "cell_type": "code",
      "metadata": {
        "id": "maudLG3g48_k",
        "colab_type": "code",
        "colab": {
          "base_uri": "https://localhost:8080/",
          "height": 393
        },
        "outputId": "5fe7b0cb-e776-4f8e-8b22-2344d652c9ee"
      },
      "source": [
        "num = 50\n",
        "\n",
        "# Counts the percentage male of the 50 most powerful pokemon with a gender.\n",
        "pokemon_with_gender = pokemon.dropna(subset=['percentage_male'])\n",
        "powerful_gender = pokemon_with_gender[['base_total', 'percentage_male']].sort_values('base_total', ascending=False).head(num).groupby('percentage_male').size()\n",
        "\n",
        "powerful_gender.plot(kind='pie')\n",
        "\n",
        "# Calculated percentage male/female of most powerful Pokemon.\n",
        "percent_powerful_male = (powerful_gender[100.0] + powerful_gender[88.1] + powerful_gender[75.4]) / powerful_gender.sum()\n",
        "percent_powerful_female = powerful_gender[0.0] / powerful_gender.sum()\n",
        "print(f'{format(percent_powerful_male*100)}% of the {num} most powerful gendered Pokémon are male.')\n",
        "print(f'{format(percent_powerful_female*100)}% of the {num} most powerful gendered Pokémon are female.')"
      ],
      "execution_count": 278,
      "outputs": [
        {
          "output_type": "stream",
          "text": [
            "32.0% of the 50 most powerful gendered Pokémon are male.\n",
            "6.0% of the 50 most powerful gendered Pokémon are female.\n"
          ],
          "name": "stdout"
        },
        {
          "output_type": "display_data",
          "data": {
            "image/png": "[encoded data removed]",
            "text/plain": [
              "<Figure size 1008x432 with 1 Axes>"
            ]
          },
          "metadata": {
            "tags": []
          }
        }
      ]
    }
  ]
}